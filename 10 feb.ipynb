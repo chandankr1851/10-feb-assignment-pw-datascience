{
 "cells": [
  {
   "cell_type": "code",
   "execution_count": null,
   "id": "28b6b373-6bc3-4aff-b507-c5e31f5d857a",
   "metadata": {},
   "outputs": [],
   "source": [
    "Q1. Which function is used to open a file? What are the different modes of opening a file? Explain each mode\n",
    "of file opening.\n",
    "Q2. Why close() function is used? Why is it important to close a file?\n",
    "Q3. Write a python program to create a text file. Write ‘I want to become a Data Scientist’ in that file. Then\n",
    "close the file. Open this file and read the content of the file.\n",
    "Q4. Explain the following with python code: read(), readline() and readlines().\n",
    "Q5. Explain why with statement is used with open(). What is the advantage of using with statement and\n",
    "open() together?\n",
    "Q6. Explain the write() and writelines() functions. Give a suitable example."
   ]
  },
  {
   "cell_type": "code",
   "execution_count": null,
   "id": "eb3f2d11-3db7-4c9b-9a35-514dc65d58a8",
   "metadata": {},
   "outputs": [],
   "source": [
    "Q1. Which function is used to open a file? What are the different modes of opening a file? Explain each mode of file opening.\n",
    "\n",
    "The open() function is used to open a file in Python. It takes two arguments: the file path and the mode in which the file should be opened. The file path can be a relative or absolute path to the file. The mode specifies how the file will be accessed. There are several modes available for file opening:\n",
    "\n",
    "'r': Read mode. This mode allows reading from the file. The file pointer is positioned at the beginning of the file. If the file does not exist, it raises a FileNotFoundError.\n",
    "\n",
    "'w': Write mode. This mode allows writing to the file. If the file exists, it will be truncated (emptied). If the file does not exist, a new file will be created.\n",
    "\n",
    "'a': Append mode. This mode allows appending data to the end of the file. If the file does not exist, a new file will be created.\n",
    "\n",
    "'x': Exclusive creation mode. This mode creates a new file but raises a FileExistsError if the file already exists.\n",
    "\n",
    "'b': Binary mode. This mode is used for binary files, such as images, audio, etc.\n",
    "\n",
    "'t': Text mode. This mode is used for text files, and it is the default mode if not specified.\n",
    "\n",
    "'+': Read and Write mode. This mode allows both reading and writing to the file."
   ]
  },
  {
   "cell_type": "code",
   "execution_count": null,
   "id": "1f10e8df-25a8-4e71-92ca-9408cc699b98",
   "metadata": {},
   "outputs": [],
   "source": [
    "Q2. Why close() function is used? Why is it important to close a file?\n",
    "\n",
    "The close() function is used to close a file that was opened using the open() function. \n",
    "It is essential to close a file after performing file operations to release the resources \n",
    "associated with the file. When a file is opened, the operating system allocates certain \n",
    "resources to manage the file, and these resources need to be freed when the file is no longer required.\n",
    "\n",
    "If you do not close a file explicitly after using it, it may lead to resource leaks, \n",
    "which can cause issues like memory wastage or limit the number of files that can be \n",
    "opened simultaneously. While Python's garbage collector may eventually close the file for you,\n",
    "it is considered good practice to explicitly close files to ensure timely release of resources.\n"
   ]
  },
  {
   "cell_type": "code",
   "execution_count": null,
   "id": "c7dcf296-0463-48bc-af46-1f914482fb8d",
   "metadata": {},
   "outputs": [],
   "source": [
    "Q3. Write a Python program to create a text file. \n",
    "Write ‘I want to become a Data Scientist’ in that file.\n",
    "Then close the file. Open this file and read the content of the file.\n",
    "# Create a text file and write content to it\n",
    "with open(\"my_file.txt\", \"w\") as file:\n",
    "    file.write(\"I want to become a Data Scientist\")\n",
    "\n",
    "# Open the file in read mode and read the content\n",
    "with open(\"my_file.txt\", \"r\") as file:\n",
    "    content = file.read()\n",
    "    print(content)\n",
    "    \n",
    "    output-\n",
    "I want to become a Data Scientist\n"
   ]
  },
  {
   "cell_type": "code",
   "execution_count": null,
   "id": "2111e8c2-12f1-4d3f-a68b-f075d295647d",
   "metadata": {},
   "outputs": [],
   "source": [
    "4. Explain the following with Python code: read(), readline(), and readlines().\n",
    "\n",
    "read(): The read() method is used to read the entire content of a file as a single string.\n",
    "It reads and returns all the characters from the current file position to the end of the file.\n",
    "with open(\"my_file.txt\", \"r\") as file:\n",
    "    content = file.read()\n",
    "    print(content)\n",
    "readline(): The readline() method is used to read a single line from the file. \n",
    "It reads the characters from the current file position until \n",
    "it encounters a newline character (\\n) or reaches the end of the file.\n",
    "\n",
    "readlines(): The readlines() method is used to read all the lines from the file and return them as a \n",
    "list of strings. Each element of the list represents a line from the file.\n",
    "\n",
    "with open(\"my_file.txt\", \"r\") as file:\n",
    "    lines = file.readlines()\n",
    "    print(lines)  # Output: ['I want to become a Data Scientist']\n"
   ]
  },
  {
   "cell_type": "code",
   "execution_count": null,
   "id": "ed3e98c8-0f91-49dd-9902-27e675b2268e",
   "metadata": {},
   "outputs": [],
   "source": [
    "Q5. Explain why the with statement is used with open(). What is the advantage of using with statement and open() together?\n",
    "\n",
    "The with statement is used with the open() function to ensure proper management of resources associated with file handling.\n",
    "It simplifies the process of opening and closing files, making the code cleaner and less error-prone.\n",
    "\n",
    "Advantages of using with statement and open() together:\n",
    "\n",
    "Automatic resource management: When a file is opened using the open() function inside a with statement, \n",
    "the file is automatically closed when the block of code is exited. This ensures that the file is closed,\n",
    "even if an exception occurs within the block.\n",
    "\n",
    "Exception handling: If an exception occurs while working with the file, the with statement ensures that the \n",
    "file is properly closed before the exception is propagated, preventing resource leaks.\n",
    "\n",
    "Concise code: The with statement simplifies the code by eliminating the need for explicitly calling the close() method."
   ]
  },
  {
   "cell_type": "code",
   "execution_count": null,
   "id": "e2b1fd9b-828f-48ab-a59f-4cf9416ed255",
   "metadata": {},
   "outputs": [],
   "source": [
    "Q6. Explain the write() and writelines() functions. Give a suitable example.\n",
    "\n",
    "write(): The write() method is used to write a string to a file. \n",
    "It appends the provided string to the file's existing content or creates a new file if it does not exist.\n",
    "\n",
    "with open(\"my_file.txt\", \"w\") as file:\n",
    "    file.write(\"I want to become a Data Scientist\\n\")\n",
    "    file.write(\"I am passionate about data analysis and machine learning\")\n",
    "The content of \"my_file.txt\" after execution:\n",
    "    \n",
    "    output-\n",
    "    I want to become a Data Scientist\n",
    "I am passionate about data analysis and machine learning\n"
   ]
  }
 ],
 "metadata": {
  "kernelspec": {
   "display_name": "Python 3 (ipykernel)",
   "language": "python",
   "name": "python3"
  },
  "language_info": {
   "codemirror_mode": {
    "name": "ipython",
    "version": 3
   },
   "file_extension": ".py",
   "mimetype": "text/x-python",
   "name": "python",
   "nbconvert_exporter": "python",
   "pygments_lexer": "ipython3",
   "version": "3.10.8"
  }
 },
 "nbformat": 4,
 "nbformat_minor": 5
}
